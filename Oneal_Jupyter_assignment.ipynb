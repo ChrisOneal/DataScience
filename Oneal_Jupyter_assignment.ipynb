{
  "metadata": {
    "kernelspec": {
      "name": "python",
      "display_name": "Pyolite",
      "language": "python"
    },
    "language_info": {
      "codemirror_mode": {
        "name": "python",
        "version": 3
      },
      "file_extension": ".py",
      "mimetype": "text/x-python",
      "name": "python",
      "nbconvert_exporter": "python",
      "pygments_lexer": "ipython3",
      "version": "3.8"
    }
  },
  "nbformat_minor": 4,
  "nbformat": 4,
  "cells": [
    {
      "cell_type": "markdown",
      "source": "# My Jupyter Notebook on IBM Watson Studioype\n",
      "metadata": {}
    },
    {
      "cell_type": "markdown",
      "source": "**Chris Oneal**",
      "metadata": {}
    },
    {
      "cell_type": "markdown",
      "source": "*I am interested in Data Science because I want to grow my skill set and learn how it applies to my foundational technical skills as a GIS analyst.*",
      "metadata": {}
    },
    {
      "cell_type": "markdown",
      "source": "### My code below defines a function pythonically that will return a factorial calculation for any number *n* ###",
      "metadata": {}
    },
    {
      "cell_type": "code",
      "source": "def factorial(n):\n    print(\"factorial has been called with n = \" + str(n))\n    if n == 1:\n        return 1\n    else:\n        res = n * factorial(n-1)\n        print(\"intermediate result for \", n, \" * factorial(\" ,n-1, \"): \",res)\n        return res\nprint(factorial(5))",
      "metadata": {
        "trusted": true
      },
      "execution_count": 1,
      "outputs": [
        {
          "name": "stdout",
          "text": "factorial has been called with n = 5\nfactorial has been called with n = 4\nfactorial has been called with n = 3\nfactorial has been called with n = 2\nfactorial has been called with n = 1\nintermediate result for  2  * factorial( 1 ):  2\nintermediate result for  3  * factorial( 2 ):  6\nintermediate result for  4  * factorial( 3 ):  24\nintermediate result for  5  * factorial( 4 ):  120\n120\n",
          "output_type": "stream"
        }
      ]
    },
    {
      "cell_type": "markdown",
      "source": "| header | header |\n| ------ | ------ |\n| cell | cell |",
      "metadata": {}
    },
    {
      "cell_type": "markdown",
      "source": " ```In this cell, Cell 6 I will use horizontal rule, Markdown, highlighting, table etc```\n\n ---\n >a few things I am recently intersted in include\n\n1. Coursera Data Science class\n2. These websites below\n* <a href=\"https://openai.com/blog/chatgpt\"> chatGPT</a>\n  * Because I think it is very interesting\n  * It will likely replace google as a search engine\n    1. we shall see\n    1. what the future holds\n  \n* <a href=\"https://www.raspberrypi.com\"> Raspberry Pi computers</a>\n- Widespread\n- Panic\n\n## using justify tags here to display lyrics from a verse from a song by Widespread Panic \n| Left Justify | Center Justify | right justify\n| :- |:-:| -: \n|format tags are above| this row and are only   | visible in Markdown view\n| Jack was really a jester | Who held his one good eye on the queen  |And there sat the king beside her\n|He's pointing his sword up and down with every scene|And the wizard's in the corner|Catching peanuts between his teeth\n|And the dogs lying in the shadow in the archway| There's one good dog sleeping |filled with good ol' dog dreams",
      "metadata": {}
    },
    {
      "cell_type": "markdown",
      "source": "",
      "metadata": {}
    },
    {
      "cell_type": "code",
      "source": "",
      "metadata": {},
      "execution_count": null,
      "outputs": []
    }
  ]
}